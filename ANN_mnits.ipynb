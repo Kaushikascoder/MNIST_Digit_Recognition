{
 "cells": [
  {
   "cell_type": "code",
   "execution_count": 1,
   "id": "84d1bdf9",
   "metadata": {},
   "outputs": [],
   "source": [
    "import numpy as np \n",
    "import pandas as pd \n",
    "import matplotlib.pyplot as plt \n",
    "import seaborn as sns \n",
    "import sklearn \n",
    "import tensorflow as tf\n"
   ]
  },
  {
   "cell_type": "code",
   "execution_count": 3,
   "id": "2ea843c7",
   "metadata": {},
   "outputs": [],
   "source": [
    "df = pd.read_csv('./mnist_test.csv')"
   ]
  },
  {
   "cell_type": "code",
   "execution_count": 4,
   "id": "fc6c4930",
   "metadata": {},
   "outputs": [
    {
     "data": {
      "text/html": [
       "<div>\n",
       "<style scoped>\n",
       "    .dataframe tbody tr th:only-of-type {\n",
       "        vertical-align: middle;\n",
       "    }\n",
       "\n",
       "    .dataframe tbody tr th {\n",
       "        vertical-align: top;\n",
       "    }\n",
       "\n",
       "    .dataframe thead th {\n",
       "        text-align: right;\n",
       "    }\n",
       "</style>\n",
       "<table border=\"1\" class=\"dataframe\">\n",
       "  <thead>\n",
       "    <tr style=\"text-align: right;\">\n",
       "      <th></th>\n",
       "      <th>label</th>\n",
       "      <th>1x1</th>\n",
       "      <th>1x2</th>\n",
       "      <th>1x3</th>\n",
       "      <th>1x4</th>\n",
       "      <th>1x5</th>\n",
       "      <th>1x6</th>\n",
       "      <th>1x7</th>\n",
       "      <th>1x8</th>\n",
       "      <th>1x9</th>\n",
       "      <th>...</th>\n",
       "      <th>28x19</th>\n",
       "      <th>28x20</th>\n",
       "      <th>28x21</th>\n",
       "      <th>28x22</th>\n",
       "      <th>28x23</th>\n",
       "      <th>28x24</th>\n",
       "      <th>28x25</th>\n",
       "      <th>28x26</th>\n",
       "      <th>28x27</th>\n",
       "      <th>28x28</th>\n",
       "    </tr>\n",
       "  </thead>\n",
       "  <tbody>\n",
       "    <tr>\n",
       "      <th>0</th>\n",
       "      <td>7</td>\n",
       "      <td>0</td>\n",
       "      <td>0</td>\n",
       "      <td>0</td>\n",
       "      <td>0</td>\n",
       "      <td>0</td>\n",
       "      <td>0</td>\n",
       "      <td>0</td>\n",
       "      <td>0</td>\n",
       "      <td>0</td>\n",
       "      <td>...</td>\n",
       "      <td>0</td>\n",
       "      <td>0</td>\n",
       "      <td>0</td>\n",
       "      <td>0</td>\n",
       "      <td>0</td>\n",
       "      <td>0</td>\n",
       "      <td>0</td>\n",
       "      <td>0</td>\n",
       "      <td>0</td>\n",
       "      <td>0</td>\n",
       "    </tr>\n",
       "    <tr>\n",
       "      <th>1</th>\n",
       "      <td>2</td>\n",
       "      <td>0</td>\n",
       "      <td>0</td>\n",
       "      <td>0</td>\n",
       "      <td>0</td>\n",
       "      <td>0</td>\n",
       "      <td>0</td>\n",
       "      <td>0</td>\n",
       "      <td>0</td>\n",
       "      <td>0</td>\n",
       "      <td>...</td>\n",
       "      <td>0</td>\n",
       "      <td>0</td>\n",
       "      <td>0</td>\n",
       "      <td>0</td>\n",
       "      <td>0</td>\n",
       "      <td>0</td>\n",
       "      <td>0</td>\n",
       "      <td>0</td>\n",
       "      <td>0</td>\n",
       "      <td>0</td>\n",
       "    </tr>\n",
       "    <tr>\n",
       "      <th>2</th>\n",
       "      <td>1</td>\n",
       "      <td>0</td>\n",
       "      <td>0</td>\n",
       "      <td>0</td>\n",
       "      <td>0</td>\n",
       "      <td>0</td>\n",
       "      <td>0</td>\n",
       "      <td>0</td>\n",
       "      <td>0</td>\n",
       "      <td>0</td>\n",
       "      <td>...</td>\n",
       "      <td>0</td>\n",
       "      <td>0</td>\n",
       "      <td>0</td>\n",
       "      <td>0</td>\n",
       "      <td>0</td>\n",
       "      <td>0</td>\n",
       "      <td>0</td>\n",
       "      <td>0</td>\n",
       "      <td>0</td>\n",
       "      <td>0</td>\n",
       "    </tr>\n",
       "    <tr>\n",
       "      <th>3</th>\n",
       "      <td>0</td>\n",
       "      <td>0</td>\n",
       "      <td>0</td>\n",
       "      <td>0</td>\n",
       "      <td>0</td>\n",
       "      <td>0</td>\n",
       "      <td>0</td>\n",
       "      <td>0</td>\n",
       "      <td>0</td>\n",
       "      <td>0</td>\n",
       "      <td>...</td>\n",
       "      <td>0</td>\n",
       "      <td>0</td>\n",
       "      <td>0</td>\n",
       "      <td>0</td>\n",
       "      <td>0</td>\n",
       "      <td>0</td>\n",
       "      <td>0</td>\n",
       "      <td>0</td>\n",
       "      <td>0</td>\n",
       "      <td>0</td>\n",
       "    </tr>\n",
       "    <tr>\n",
       "      <th>4</th>\n",
       "      <td>4</td>\n",
       "      <td>0</td>\n",
       "      <td>0</td>\n",
       "      <td>0</td>\n",
       "      <td>0</td>\n",
       "      <td>0</td>\n",
       "      <td>0</td>\n",
       "      <td>0</td>\n",
       "      <td>0</td>\n",
       "      <td>0</td>\n",
       "      <td>...</td>\n",
       "      <td>0</td>\n",
       "      <td>0</td>\n",
       "      <td>0</td>\n",
       "      <td>0</td>\n",
       "      <td>0</td>\n",
       "      <td>0</td>\n",
       "      <td>0</td>\n",
       "      <td>0</td>\n",
       "      <td>0</td>\n",
       "      <td>0</td>\n",
       "    </tr>\n",
       "  </tbody>\n",
       "</table>\n",
       "<p>5 rows × 785 columns</p>\n",
       "</div>"
      ],
      "text/plain": [
       "   label  1x1  1x2  1x3  1x4  1x5  1x6  1x7  1x8  1x9  ...  28x19  28x20  \\\n",
       "0      7    0    0    0    0    0    0    0    0    0  ...      0      0   \n",
       "1      2    0    0    0    0    0    0    0    0    0  ...      0      0   \n",
       "2      1    0    0    0    0    0    0    0    0    0  ...      0      0   \n",
       "3      0    0    0    0    0    0    0    0    0    0  ...      0      0   \n",
       "4      4    0    0    0    0    0    0    0    0    0  ...      0      0   \n",
       "\n",
       "   28x21  28x22  28x23  28x24  28x25  28x26  28x27  28x28  \n",
       "0      0      0      0      0      0      0      0      0  \n",
       "1      0      0      0      0      0      0      0      0  \n",
       "2      0      0      0      0      0      0      0      0  \n",
       "3      0      0      0      0      0      0      0      0  \n",
       "4      0      0      0      0      0      0      0      0  \n",
       "\n",
       "[5 rows x 785 columns]"
      ]
     },
     "execution_count": 4,
     "metadata": {},
     "output_type": "execute_result"
    }
   ],
   "source": [
    "df.head()"
   ]
  },
  {
   "cell_type": "code",
   "execution_count": 5,
   "id": "742311b0",
   "metadata": {},
   "outputs": [
    {
     "data": {
      "text/plain": [
       "(10000, 785)"
      ]
     },
     "execution_count": 5,
     "metadata": {},
     "output_type": "execute_result"
    }
   ],
   "source": [
    "df.shape"
   ]
  },
  {
   "cell_type": "code",
   "execution_count": 7,
   "id": "7a21d89f",
   "metadata": {},
   "outputs": [],
   "source": [
    "X = df.iloc[: , 1:]\n",
    "y = df.iloc[: , 0]"
   ]
  },
  {
   "cell_type": "code",
   "execution_count": 8,
   "id": "435a8140",
   "metadata": {},
   "outputs": [
    {
     "data": {
      "text/plain": [
       "<matplotlib.image.AxesImage at 0x2aa391d3a30>"
      ]
     },
     "execution_count": 8,
     "metadata": {},
     "output_type": "execute_result"
    },
    {
     "data": {
      "image/png": "[encoded data removed]",
      "text/plain": [
       "<Figure size 432x288 with 1 Axes>"
      ]
     },
     "metadata": {
      "needs_background": "light"
     },
     "output_type": "display_data"
    }
   ],
   "source": [
    "plt.imshow(a)"
   ]
  },
  {
   "cell_type": "code",
   "execution_count": 9,
   "id": "60df0f2a",
   "metadata": {},
   "outputs": [],
   "source": [
    "from tensorflow import keras\n",
    "from tensorflow.keras.models import Sequential\n",
    "from tensorflow.keras.layers import Dense , Activation\n",
    "from tensorflow.keras.activations import sigmoid , relu , softmax"
   ]
  },
  {
   "cell_type": "code",
   "execution_count": 10,
   "id": "4dbe9b01",
   "metadata": {},
   "outputs": [
    {
     "data": {
      "text/plain": [
       "(10000, 784)"
      ]
     },
     "execution_count": 10,
     "metadata": {},
     "output_type": "execute_result"
    }
   ],
   "source": [
    "X.shape"
   ]
  },
  {
   "cell_type": "code",
   "execution_count": 11,
   "id": "32e29cfd",
   "metadata": {},
   "outputs": [
    {
     "data": {
      "text/plain": [
       "array([7, 2, 1, 0, 4, 9, 5, 6, 3, 8], dtype=int64)"
      ]
     },
     "execution_count": 11,
     "metadata": {},
     "output_type": "execute_result"
    }
   ],
   "source": [
    "df['label'].unique()"
   ]
  },
  {
   "cell_type": "code",
   "execution_count": 12,
   "id": "4034f950",
   "metadata": {},
   "outputs": [],
   "source": [
    "# Architecture \n",
    "\n",
    "model = Sequential()\n",
    "\n",
    "# First Hidden layer \n",
    "\n",
    "model.add(Dense(units = 256,kernel_initializer='he_uniform',activation='relu',input_dim = X.shape[1]))\n",
    "\n",
    "# second layer \n",
    "\n",
    "model.add(Dense(units=128 ,kernel_initializer='he_uniform',activation='relu',))\n",
    "\n",
    "\n",
    "#Third layer \n",
    "\n",
    "model.add(Dense(units=64 ,kernel_initializer='he_uniform',activation='relu',))\n",
    "\n",
    "\n",
    "# fourth Layer \n",
    "\n",
    "model.add(Dense(units=32 ,kernel_initializer='he_uniform',activation='relu'))\n",
    "\n",
    "# fifth Layer \n",
    "\n",
    "model.add(Dense(units=16 ,kernel_initializer='he_uniform',activation='relu',))\n",
    "\n",
    "\n",
    "# sixth Layer \n",
    "\n",
    "model.add(Dense(units=8 ,kernel_initializer='he_uniform',activation='relu'))\n",
    "\n",
    "\n",
    "# Seventh layer \n",
    "\n",
    "model.add(Dense(units=4,kernel_initializer='he_uniform',activation='relu'))\n",
    "\n",
    "\n",
    "# Eith layer \n",
    "\n",
    "model.add(Dense(units= 10 ,kernel_initializer='glorot_uniform',activation='softmax'))\n",
    "\n",
    "\n",
    "\n"
   ]
  },
  {
   "cell_type": "code",
   "execution_count": 13,
   "id": "43fcae9c",
   "metadata": {},
   "outputs": [
    {
     "name": "stdout",
     "output_type": "stream",
     "text": [
      "Model: \"sequential\"\n",
      "_________________________________________________________________\n",
      " Layer (type)                Output Shape              Param #   \n",
      "=================================================================\n",
      " dense (Dense)               (None, 256)               200960    \n",
      "                                                                 \n",
      " dense_1 (Dense)             (None, 128)               32896     \n",
      "                                                                 \n",
      " dense_2 (Dense)             (None, 64)                8256      \n",
      "                                                                 \n",
      " dense_3 (Dense)             (None, 32)                2080      \n",
      "                                                                 \n",
      " dense_4 (Dense)             (None, 16)                528       \n",
      "                                                                 \n",
      " dense_5 (Dense)             (None, 8)                 136       \n",
      "                                                                 \n",
      " dense_6 (Dense)             (None, 4)                 36        \n",
      "                                                                 \n",
      " dense_7 (Dense)             (None, 10)                50        \n",
      "                                                                 \n",
      "=================================================================\n",
      "Total params: 244,942\n",
      "Trainable params: 244,942\n",
      "Non-trainable params: 0\n",
      "_________________________________________________________________\n"
     ]
    }
   ],
   "source": [
    "model.summary()"
   ]
  },
  {
   "cell_type": "code",
   "execution_count": 14,
   "id": "f71a7d9e",
   "metadata": {},
   "outputs": [],
   "source": [
    "model.compile(optimizer='adam' , loss='sparse_categorical_crossentropy' , metrics=['accuracy'])\n"
   ]
  },
  {
   "cell_type": "code",
   "execution_count": 15,
   "id": "0617519c",
   "metadata": {},
   "outputs": [
    {
     "data": {
      "text/plain": [
       "59904"
      ]
     },
     "execution_count": 15,
     "metadata": {},
     "output_type": "execute_result"
    }
   ],
   "source": [
    "234 * 256"
   ]
  },
  {
   "cell_type": "code",
   "execution_count": 16,
   "id": "1a1af601",
   "metadata": {},
   "outputs": [
    {
     "data": {
      "text/plain": [
       "10000"
      ]
     },
     "execution_count": 16,
     "metadata": {},
     "output_type": "execute_result"
    }
   ],
   "source": [
    "X.shape[0]"
   ]
  },
  {
   "cell_type": "code",
   "execution_count": 17,
   "id": "1dee62ee",
   "metadata": {},
   "outputs": [
    {
     "name": "stdout",
     "output_type": "stream",
     "text": [
      "Epoch 1/50\n",
      "36/36 [==============================] - 3s 18ms/step - loss: 8.1391 - accuracy: 0.1131 - val_loss: 2.3015 - val_accuracy: 0.1190\n",
      "Epoch 2/50\n",
      "36/36 [==============================] - 0s 11ms/step - loss: 2.2619 - accuracy: 0.1508 - val_loss: 2.2344 - val_accuracy: 0.1680\n",
      "Epoch 3/50\n",
      "36/36 [==============================] - 0s 11ms/step - loss: 2.1765 - accuracy: 0.1891 - val_loss: 2.1904 - val_accuracy: 0.1860\n",
      "Epoch 4/50\n",
      "36/36 [==============================] - 0s 12ms/step - loss: 2.1104 - accuracy: 0.1983 - val_loss: 2.1310 - val_accuracy: 0.1940\n",
      "Epoch 5/50\n",
      "36/36 [==============================] - 0s 10ms/step - loss: 2.0571 - accuracy: 0.2020 - val_loss: 2.1171 - val_accuracy: 0.2000\n",
      "Epoch 6/50\n",
      "36/36 [==============================] - 0s 10ms/step - loss: 2.0218 - accuracy: 0.2057 - val_loss: 2.1033 - val_accuracy: 0.1980\n",
      "Epoch 7/50\n",
      "36/36 [==============================] - 0s 10ms/step - loss: 1.9913 - accuracy: 0.2087 - val_loss: 2.0871 - val_accuracy: 0.1990\n",
      "Epoch 8/50\n",
      "36/36 [==============================] - 0s 10ms/step - loss: 1.9707 - accuracy: 0.2099 - val_loss: 2.0989 - val_accuracy: 0.2000\n",
      "Epoch 9/50\n",
      "36/36 [==============================] - 0s 11ms/step - loss: 1.9605 - accuracy: 0.2108 - val_loss: 2.0626 - val_accuracy: 0.1980\n",
      "Epoch 10/50\n",
      "36/36 [==============================] - 0s 10ms/step - loss: 1.9661 - accuracy: 0.2092 - val_loss: 2.0601 - val_accuracy: 0.1970\n",
      "Epoch 11/50\n",
      "36/36 [==============================] - 0s 11ms/step - loss: 1.9507 - accuracy: 0.2117 - val_loss: 2.0624 - val_accuracy: 0.2020\n",
      "Epoch 12/50\n",
      "36/36 [==============================] - 0s 10ms/step - loss: 1.9346 - accuracy: 0.2112 - val_loss: 2.0749 - val_accuracy: 0.2020\n",
      "Epoch 13/50\n",
      "36/36 [==============================] - 0s 10ms/step - loss: 1.9172 - accuracy: 0.2128 - val_loss: 2.1173 - val_accuracy: 0.2040\n",
      "Epoch 14/50\n",
      "36/36 [==============================] - 0s 11ms/step - loss: 1.9053 - accuracy: 0.2130 - val_loss: 2.0969 - val_accuracy: 0.2040\n",
      "Epoch 15/50\n",
      "36/36 [==============================] - 0s 10ms/step - loss: 1.8982 - accuracy: 0.2148 - val_loss: 2.0984 - val_accuracy: 0.2080\n",
      "Epoch 16/50\n",
      "36/36 [==============================] - 0s 11ms/step - loss: 1.8911 - accuracy: 0.2140 - val_loss: 2.1954 - val_accuracy: 0.2110\n",
      "Epoch 17/50\n",
      "36/36 [==============================] - 0s 10ms/step - loss: 1.8885 - accuracy: 0.2131 - val_loss: 2.2721 - val_accuracy: 0.2100\n",
      "Epoch 18/50\n",
      "36/36 [==============================] - 0s 11ms/step - loss: 1.8867 - accuracy: 0.2152 - val_loss: 2.0661 - val_accuracy: 0.2110\n",
      "Epoch 19/50\n",
      "36/36 [==============================] - 0s 11ms/step - loss: 1.8662 - accuracy: 0.2197 - val_loss: 2.1443 - val_accuracy: 0.2150\n",
      "Epoch 20/50\n",
      "36/36 [==============================] - 0s 12ms/step - loss: 1.8473 - accuracy: 0.2289 - val_loss: 2.1005 - val_accuracy: 0.2560\n",
      "Epoch 21/50\n",
      "36/36 [==============================] - 0s 12ms/step - loss: 1.8290 - accuracy: 0.2569 - val_loss: 2.0151 - val_accuracy: 0.2720\n",
      "Epoch 22/50\n",
      "36/36 [==============================] - 0s 11ms/step - loss: 1.7777 - accuracy: 0.2813 - val_loss: 2.0360 - val_accuracy: 0.3040\n",
      "Epoch 23/50\n",
      "36/36 [==============================] - 0s 11ms/step - loss: 1.7153 - accuracy: 0.2987 - val_loss: 2.2814 - val_accuracy: 0.2990\n",
      "Epoch 24/50\n",
      "36/36 [==============================] - 0s 14ms/step - loss: 1.6640 - accuracy: 0.3278 - val_loss: 1.9047 - val_accuracy: 0.3300\n",
      "Epoch 25/50\n",
      "36/36 [==============================] - 0s 13ms/step - loss: 1.6322 - accuracy: 0.3668 - val_loss: 1.8805 - val_accuracy: 0.3510\n",
      "Epoch 26/50\n",
      "36/36 [==============================] - 1s 15ms/step - loss: 1.5576 - accuracy: 0.3906 - val_loss: 1.9008 - val_accuracy: 0.3750\n",
      "Epoch 27/50\n",
      "36/36 [==============================] - 1s 15ms/step - loss: 1.5136 - accuracy: 0.3938 - val_loss: 1.7552 - val_accuracy: 0.3630\n",
      "Epoch 28/50\n",
      "36/36 [==============================] - 0s 14ms/step - loss: 1.5219 - accuracy: 0.4000 - val_loss: 2.5826 - val_accuracy: 0.3890\n",
      "Epoch 29/50\n",
      "36/36 [==============================] - 1s 15ms/step - loss: 1.4797 - accuracy: 0.4011 - val_loss: 2.4222 - val_accuracy: 0.3880\n",
      "Epoch 30/50\n",
      "36/36 [==============================] - 0s 13ms/step - loss: 1.4484 - accuracy: 0.4034 - val_loss: 2.1062 - val_accuracy: 0.3810\n",
      "Epoch 31/50\n",
      "36/36 [==============================] - 1s 15ms/step - loss: 1.4498 - accuracy: 0.4033 - val_loss: 1.9633 - val_accuracy: 0.3800\n",
      "Epoch 32/50\n",
      "36/36 [==============================] - 0s 12ms/step - loss: 1.4198 - accuracy: 0.4082 - val_loss: 1.8289 - val_accuracy: 0.3900\n",
      "Epoch 33/50\n",
      "36/36 [==============================] - 0s 11ms/step - loss: 1.4162 - accuracy: 0.4086 - val_loss: 2.1988 - val_accuracy: 0.3910\n",
      "Epoch 34/50\n",
      "36/36 [==============================] - 0s 10ms/step - loss: 1.4005 - accuracy: 0.4154 - val_loss: 2.2119 - val_accuracy: 0.4090\n",
      "Epoch 35/50\n",
      "36/36 [==============================] - 0s 11ms/step - loss: 1.3821 - accuracy: 0.4182 - val_loss: 2.1467 - val_accuracy: 0.4010\n",
      "Epoch 36/50\n",
      "36/36 [==============================] - 0s 10ms/step - loss: 1.3717 - accuracy: 0.4257 - val_loss: 2.2714 - val_accuracy: 0.4140\n",
      "Epoch 37/50\n",
      "36/36 [==============================] - 0s 10ms/step - loss: 1.3519 - accuracy: 0.4393 - val_loss: 2.0163 - val_accuracy: 0.4360\n",
      "Epoch 38/50\n",
      "36/36 [==============================] - 0s 10ms/step - loss: 1.3176 - accuracy: 0.4529 - val_loss: 1.7655 - val_accuracy: 0.4640\n",
      "Epoch 39/50\n",
      "36/36 [==============================] - 0s 13ms/step - loss: 1.3056 - accuracy: 0.4661 - val_loss: 1.6520 - val_accuracy: 0.4390\n",
      "Epoch 40/50\n",
      "36/36 [==============================] - 0s 14ms/step - loss: 1.3091 - accuracy: 0.4610 - val_loss: 1.6458 - val_accuracy: 0.4610\n",
      "Epoch 41/50\n",
      "36/36 [==============================] - 0s 14ms/step - loss: 1.2840 - accuracy: 0.4748 - val_loss: 2.0786 - val_accuracy: 0.4770\n",
      "Epoch 42/50\n",
      "36/36 [==============================] - 1s 16ms/step - loss: 1.2533 - accuracy: 0.4857 - val_loss: 2.0054 - val_accuracy: 0.4670\n",
      "Epoch 43/50\n",
      "36/36 [==============================] - 1s 16ms/step - loss: 1.2447 - accuracy: 0.4877 - val_loss: 2.0439 - val_accuracy: 0.4500\n",
      "Epoch 44/50\n",
      "36/36 [==============================] - 1s 15ms/step - loss: 1.2378 - accuracy: 0.4890 - val_loss: 1.9445 - val_accuracy: 0.4880\n",
      "Epoch 45/50\n",
      "36/36 [==============================] - 1s 15ms/step - loss: 1.2201 - accuracy: 0.4942 - val_loss: 1.7824 - val_accuracy: 0.4920\n",
      "Epoch 46/50\n",
      "36/36 [==============================] - 1s 16ms/step - loss: 1.2033 - accuracy: 0.5037 - val_loss: 1.6609 - val_accuracy: 0.4880\n",
      "Epoch 47/50\n",
      "36/36 [==============================] - 1s 14ms/step - loss: 1.1990 - accuracy: 0.5138 - val_loss: 1.8282 - val_accuracy: 0.4880\n",
      "Epoch 48/50\n",
      "36/36 [==============================] - 0s 12ms/step - loss: 1.2341 - accuracy: 0.4982 - val_loss: 2.0264 - val_accuracy: 0.4810\n",
      "Epoch 49/50\n",
      "36/36 [==============================] - 0s 11ms/step - loss: 1.2036 - accuracy: 0.5290 - val_loss: 1.9423 - val_accuracy: 0.4990\n",
      "Epoch 50/50\n",
      "36/36 [==============================] - 0s 12ms/step - loss: 1.1600 - accuracy: 0.5457 - val_loss: 1.8402 - val_accuracy: 0.5530\n"
     ]
    }
   ],
   "source": [
    "reg = model.fit(X , y, batch_size=256 , epochs=50 , validation_split=0.1)"
   ]
  },
  {
   "cell_type": "code",
   "execution_count": 18,
   "id": "1dae8d94",
   "metadata": {},
   "outputs": [
    {
     "data": {
      "text/plain": [
       "dict_keys(['loss', 'accuracy', 'val_loss', 'val_accuracy'])"
      ]
     },
     "execution_count": 18,
     "metadata": {},
     "output_type": "execute_result"
    }
   ],
   "source": [
    "model.history.history.keys()"
   ]
  },
  {
   "cell_type": "code",
   "execution_count": 19,
   "id": "6fadbc7d",
   "metadata": {},
   "outputs": [
    {
     "data": {
      "text/plain": [
       "[8.139132499694824,\n",
       " 2.2619073390960693,\n",
       " 2.17651629447937,\n",
       " 2.1104390621185303,\n",
       " 2.0570616722106934,\n",
       " 2.021808385848999,\n",
       " 1.9912670850753784,\n",
       " 1.970720887184143,\n",
       " 1.9605306386947632,\n",
       " 1.966086983680725,\n",
       " 1.9506891965866089,\n",
       " 1.9345924854278564,\n",
       " 1.9171818494796753,\n",
       " 1.9053149223327637,\n",
       " 1.8982118368148804,\n",
       " 1.8910884857177734,\n",
       " 1.8885290622711182,\n",
       " 1.8867145776748657,\n",
       " 1.866212248802185,\n",
       " 1.8473176956176758,\n",
       " 1.828959584236145,\n",
       " 1.7776591777801514,\n",
       " 1.7153074741363525,\n",
       " 1.664001226425171,\n",
       " 1.632159948348999,\n",
       " 1.557574987411499,\n",
       " 1.513611912727356,\n",
       " 1.5218579769134521,\n",
       " 1.4797446727752686,\n",
       " 1.4483779668807983,\n",
       " 1.4498114585876465,\n",
       " 1.4198185205459595,\n",
       " 1.4162461757659912,\n",
       " 1.400469183921814,\n",
       " 1.382073998451233,\n",
       " 1.371656894683838,\n",
       " 1.3519339561462402,\n",
       " 1.317569613456726,\n",
       " 1.3056280612945557,\n",
       " 1.3091206550598145,\n",
       " 1.284040927886963,\n",
       " 1.2532684803009033,\n",
       " 1.244742751121521,\n",
       " 1.2377679347991943,\n",
       " 1.2201199531555176,\n",
       " 1.2033382654190063,\n",
       " 1.1989723443984985,\n",
       " 1.234092116355896,\n",
       " 1.2035510540008545,\n",
       " 1.1600279808044434]"
      ]
     },
     "execution_count": 19,
     "metadata": {},
     "output_type": "execute_result"
    }
   ],
   "source": [
    "model.history.history['loss']"
   ]
  },
  {
   "cell_type": "code",
   "execution_count": 95,
   "id": "1d4fa7cb",
   "metadata": {},
   "outputs": [
    {
     "data": {
      "text/plain": [
       "[0.9880555272102356,\n",
       " 0.9855926036834717,\n",
       " 0.9867592453956604,\n",
       " 0.9887407422065735,\n",
       " 0.9885925650596619,\n",
       " 0.9879999756813049,\n",
       " 0.9822221994400024,\n",
       " 0.9875370264053345,\n",
       " 0.9912592768669128,\n",
       " 0.9908148050308228,\n",
       " 0.9905925989151001,\n",
       " 0.9896666407585144,\n",
       " 0.9915740489959717,\n",
       " 0.9868888854980469,\n",
       " 0.9871666431427002,\n",
       " 0.9892222285270691,\n",
       " 0.9910555481910706,\n",
       " 0.9923703670501709,\n",
       " 0.992388904094696,\n",
       " 0.9907037019729614,\n",
       " 0.9907407164573669,\n",
       " 0.9923703670501709,\n",
       " 0.992814838886261,\n",
       " 0.9931111335754395,\n",
       " 0.9950925707817078,\n",
       " 0.9879999756813049,\n",
       " 0.9923333525657654,\n",
       " 0.9952037334442139,\n",
       " 0.9958518743515015,\n",
       " 0.9932222366333008,\n",
       " 0.9952777624130249,\n",
       " 0.9962037205696106,\n",
       " 0.9952222108840942,\n",
       " 0.9929074048995972,\n",
       " 0.9762592315673828,\n",
       " 0.9910926222801208,\n",
       " 0.9957592487335205,\n",
       " 0.996666669845581,\n",
       " 0.9965000152587891,\n",
       " 0.9972037076950073,\n",
       " 0.9979629516601562,\n",
       " 0.9978703856468201,\n",
       " 0.9968518614768982,\n",
       " 0.9954814910888672,\n",
       " 0.9908703565597534,\n",
       " 0.9947962760925293,\n",
       " 0.9965925812721252,\n",
       " 0.9949259161949158,\n",
       " 0.9910926222801208,\n",
       " 0.9942777752876282]"
      ]
     },
     "execution_count": 95,
     "metadata": {},
     "output_type": "execute_result"
    }
   ],
   "source": [
    "model.history.history['accuracy']"
   ]
  },
  {
   "cell_type": "code",
   "execution_count": 20,
   "id": "ed2f01a0",
   "metadata": {},
   "outputs": [
    {
     "data": {
      "image/png": "[encoded data removed]",
      "text/plain": [
       "<Figure size 432x288 with 2 Axes>"
      ]
     },
     "metadata": {
      "needs_background": "light"
     },
     "output_type": "display_data"
    }
   ],
   "source": [
    "plt.subplot(1,2,1)\n",
    "plt.plot(np.arange(50) , model.history.history['loss'] , color = 'r' , label = 'train_loss')\n",
    "plt.plot(np.arange(50) , model.history.history['accuracy'] , color = 'b' , label = 'train_acc')\n",
    "plt.title('training_part')\n",
    "\n",
    "plt.subplot(1,2,2)\n",
    "plt.plot(np.arange(50) , model.history.history['val_loss'] , color = 'r' , label = 'val_loss')\n",
    "plt.plot(np.arange(50) , model.history.history['val_accuracy'] , color = 'b' , label = 'val_acc')\n",
    "plt.title('validation_part')\n",
    "plt.legend(loc = 0)\n",
    "plt.show()\n",
    "\n"
   ]
  },
  {
   "cell_type": "markdown",
   "id": "cbfec39d",
   "metadata": {},
   "source": [
    "- checking with test data "
   ]
  },
  {
   "cell_type": "code",
   "execution_count": 21,
   "id": "f0aadb71",
   "metadata": {},
   "outputs": [],
   "source": [
    "test_data = pd.read_csv('./mnist_test.csv')"
   ]
  },
  {
   "cell_type": "code",
   "execution_count": 22,
   "id": "0f8edecb",
   "metadata": {},
   "outputs": [
    {
     "data": {
      "text/html": [
       "<div>\n",
       "<style scoped>\n",
       "    .dataframe tbody tr th:only-of-type {\n",
       "        vertical-align: middle;\n",
       "    }\n",
       "\n",
       "    .dataframe tbody tr th {\n",
       "        vertical-align: top;\n",
       "    }\n",
       "\n",
       "    .dataframe thead th {\n",
       "        text-align: right;\n",
       "    }\n",
       "</style>\n",
       "<table border=\"1\" class=\"dataframe\">\n",
       "  <thead>\n",
       "    <tr style=\"text-align: right;\">\n",
       "      <th></th>\n",
       "      <th>label</th>\n",
       "      <th>1x1</th>\n",
       "      <th>1x2</th>\n",
       "      <th>1x3</th>\n",
       "      <th>1x4</th>\n",
       "      <th>1x5</th>\n",
       "      <th>1x6</th>\n",
       "      <th>1x7</th>\n",
       "      <th>1x8</th>\n",
       "      <th>1x9</th>\n",
       "      <th>...</th>\n",
       "      <th>28x19</th>\n",
       "      <th>28x20</th>\n",
       "      <th>28x21</th>\n",
       "      <th>28x22</th>\n",
       "      <th>28x23</th>\n",
       "      <th>28x24</th>\n",
       "      <th>28x25</th>\n",
       "      <th>28x26</th>\n",
       "      <th>28x27</th>\n",
       "      <th>28x28</th>\n",
       "    </tr>\n",
       "  </thead>\n",
       "  <tbody>\n",
       "    <tr>\n",
       "      <th>0</th>\n",
       "      <td>7</td>\n",
       "      <td>0</td>\n",
       "      <td>0</td>\n",
       "      <td>0</td>\n",
       "      <td>0</td>\n",
       "      <td>0</td>\n",
       "      <td>0</td>\n",
       "      <td>0</td>\n",
       "      <td>0</td>\n",
       "      <td>0</td>\n",
       "      <td>...</td>\n",
       "      <td>0</td>\n",
       "      <td>0</td>\n",
       "      <td>0</td>\n",
       "      <td>0</td>\n",
       "      <td>0</td>\n",
       "      <td>0</td>\n",
       "      <td>0</td>\n",
       "      <td>0</td>\n",
       "      <td>0</td>\n",
       "      <td>0</td>\n",
       "    </tr>\n",
       "    <tr>\n",
       "      <th>1</th>\n",
       "      <td>2</td>\n",
       "      <td>0</td>\n",
       "      <td>0</td>\n",
       "      <td>0</td>\n",
       "      <td>0</td>\n",
       "      <td>0</td>\n",
       "      <td>0</td>\n",
       "      <td>0</td>\n",
       "      <td>0</td>\n",
       "      <td>0</td>\n",
       "      <td>...</td>\n",
       "      <td>0</td>\n",
       "      <td>0</td>\n",
       "      <td>0</td>\n",
       "      <td>0</td>\n",
       "      <td>0</td>\n",
       "      <td>0</td>\n",
       "      <td>0</td>\n",
       "      <td>0</td>\n",
       "      <td>0</td>\n",
       "      <td>0</td>\n",
       "    </tr>\n",
       "    <tr>\n",
       "      <th>2</th>\n",
       "      <td>1</td>\n",
       "      <td>0</td>\n",
       "      <td>0</td>\n",
       "      <td>0</td>\n",
       "      <td>0</td>\n",
       "      <td>0</td>\n",
       "      <td>0</td>\n",
       "      <td>0</td>\n",
       "      <td>0</td>\n",
       "      <td>0</td>\n",
       "      <td>...</td>\n",
       "      <td>0</td>\n",
       "      <td>0</td>\n",
       "      <td>0</td>\n",
       "      <td>0</td>\n",
       "      <td>0</td>\n",
       "      <td>0</td>\n",
       "      <td>0</td>\n",
       "      <td>0</td>\n",
       "      <td>0</td>\n",
       "      <td>0</td>\n",
       "    </tr>\n",
       "    <tr>\n",
       "      <th>3</th>\n",
       "      <td>0</td>\n",
       "      <td>0</td>\n",
       "      <td>0</td>\n",
       "      <td>0</td>\n",
       "      <td>0</td>\n",
       "      <td>0</td>\n",
       "      <td>0</td>\n",
       "      <td>0</td>\n",
       "      <td>0</td>\n",
       "      <td>0</td>\n",
       "      <td>...</td>\n",
       "      <td>0</td>\n",
       "      <td>0</td>\n",
       "      <td>0</td>\n",
       "      <td>0</td>\n",
       "      <td>0</td>\n",
       "      <td>0</td>\n",
       "      <td>0</td>\n",
       "      <td>0</td>\n",
       "      <td>0</td>\n",
       "      <td>0</td>\n",
       "    </tr>\n",
       "    <tr>\n",
       "      <th>4</th>\n",
       "      <td>4</td>\n",
       "      <td>0</td>\n",
       "      <td>0</td>\n",
       "      <td>0</td>\n",
       "      <td>0</td>\n",
       "      <td>0</td>\n",
       "      <td>0</td>\n",
       "      <td>0</td>\n",
       "      <td>0</td>\n",
       "      <td>0</td>\n",
       "      <td>...</td>\n",
       "      <td>0</td>\n",
       "      <td>0</td>\n",
       "      <td>0</td>\n",
       "      <td>0</td>\n",
       "      <td>0</td>\n",
       "      <td>0</td>\n",
       "      <td>0</td>\n",
       "      <td>0</td>\n",
       "      <td>0</td>\n",
       "      <td>0</td>\n",
       "    </tr>\n",
       "    <tr>\n",
       "      <th>5</th>\n",
       "      <td>1</td>\n",
       "      <td>0</td>\n",
       "      <td>0</td>\n",
       "      <td>0</td>\n",
       "      <td>0</td>\n",
       "      <td>0</td>\n",
       "      <td>0</td>\n",
       "      <td>0</td>\n",
       "      <td>0</td>\n",
       "      <td>0</td>\n",
       "      <td>...</td>\n",
       "      <td>0</td>\n",
       "      <td>0</td>\n",
       "      <td>0</td>\n",
       "      <td>0</td>\n",
       "      <td>0</td>\n",
       "      <td>0</td>\n",
       "      <td>0</td>\n",
       "      <td>0</td>\n",
       "      <td>0</td>\n",
       "      <td>0</td>\n",
       "    </tr>\n",
       "    <tr>\n",
       "      <th>6</th>\n",
       "      <td>4</td>\n",
       "      <td>0</td>\n",
       "      <td>0</td>\n",
       "      <td>0</td>\n",
       "      <td>0</td>\n",
       "      <td>0</td>\n",
       "      <td>0</td>\n",
       "      <td>0</td>\n",
       "      <td>0</td>\n",
       "      <td>0</td>\n",
       "      <td>...</td>\n",
       "      <td>0</td>\n",
       "      <td>0</td>\n",
       "      <td>0</td>\n",
       "      <td>0</td>\n",
       "      <td>0</td>\n",
       "      <td>0</td>\n",
       "      <td>0</td>\n",
       "      <td>0</td>\n",
       "      <td>0</td>\n",
       "      <td>0</td>\n",
       "    </tr>\n",
       "    <tr>\n",
       "      <th>7</th>\n",
       "      <td>9</td>\n",
       "      <td>0</td>\n",
       "      <td>0</td>\n",
       "      <td>0</td>\n",
       "      <td>0</td>\n",
       "      <td>0</td>\n",
       "      <td>0</td>\n",
       "      <td>0</td>\n",
       "      <td>0</td>\n",
       "      <td>0</td>\n",
       "      <td>...</td>\n",
       "      <td>0</td>\n",
       "      <td>0</td>\n",
       "      <td>0</td>\n",
       "      <td>0</td>\n",
       "      <td>0</td>\n",
       "      <td>0</td>\n",
       "      <td>0</td>\n",
       "      <td>0</td>\n",
       "      <td>0</td>\n",
       "      <td>0</td>\n",
       "    </tr>\n",
       "    <tr>\n",
       "      <th>8</th>\n",
       "      <td>5</td>\n",
       "      <td>0</td>\n",
       "      <td>0</td>\n",
       "      <td>0</td>\n",
       "      <td>0</td>\n",
       "      <td>0</td>\n",
       "      <td>0</td>\n",
       "      <td>0</td>\n",
       "      <td>0</td>\n",
       "      <td>0</td>\n",
       "      <td>...</td>\n",
       "      <td>0</td>\n",
       "      <td>0</td>\n",
       "      <td>0</td>\n",
       "      <td>0</td>\n",
       "      <td>0</td>\n",
       "      <td>0</td>\n",
       "      <td>0</td>\n",
       "      <td>0</td>\n",
       "      <td>0</td>\n",
       "      <td>0</td>\n",
       "    </tr>\n",
       "    <tr>\n",
       "      <th>9</th>\n",
       "      <td>9</td>\n",
       "      <td>0</td>\n",
       "      <td>0</td>\n",
       "      <td>0</td>\n",
       "      <td>0</td>\n",
       "      <td>0</td>\n",
       "      <td>0</td>\n",
       "      <td>0</td>\n",
       "      <td>0</td>\n",
       "      <td>0</td>\n",
       "      <td>...</td>\n",
       "      <td>0</td>\n",
       "      <td>0</td>\n",
       "      <td>0</td>\n",
       "      <td>0</td>\n",
       "      <td>0</td>\n",
       "      <td>0</td>\n",
       "      <td>0</td>\n",
       "      <td>0</td>\n",
       "      <td>0</td>\n",
       "      <td>0</td>\n",
       "    </tr>\n",
       "  </tbody>\n",
       "</table>\n",
       "<p>10 rows × 785 columns</p>\n",
       "</div>"
      ],
      "text/plain": [
       "   label  1x1  1x2  1x3  1x4  1x5  1x6  1x7  1x8  1x9  ...  28x19  28x20  \\\n",
       "0      7    0    0    0    0    0    0    0    0    0  ...      0      0   \n",
       "1      2    0    0    0    0    0    0    0    0    0  ...      0      0   \n",
       "2      1    0    0    0    0    0    0    0    0    0  ...      0      0   \n",
       "3      0    0    0    0    0    0    0    0    0    0  ...      0      0   \n",
       "4      4    0    0    0    0    0    0    0    0    0  ...      0      0   \n",
       "5      1    0    0    0    0    0    0    0    0    0  ...      0      0   \n",
       "6      4    0    0    0    0    0    0    0    0    0  ...      0      0   \n",
       "7      9    0    0    0    0    0    0    0    0    0  ...      0      0   \n",
       "8      5    0    0    0    0    0    0    0    0    0  ...      0      0   \n",
       "9      9    0    0    0    0    0    0    0    0    0  ...      0      0   \n",
       "\n",
       "   28x21  28x22  28x23  28x24  28x25  28x26  28x27  28x28  \n",
       "0      0      0      0      0      0      0      0      0  \n",
       "1      0      0      0      0      0      0      0      0  \n",
       "2      0      0      0      0      0      0      0      0  \n",
       "3      0      0      0      0      0      0      0      0  \n",
       "4      0      0      0      0      0      0      0      0  \n",
       "5      0      0      0      0      0      0      0      0  \n",
       "6      0      0      0      0      0      0      0      0  \n",
       "7      0      0      0      0      0      0      0      0  \n",
       "8      0      0      0      0      0      0      0      0  \n",
       "9      0      0      0      0      0      0      0      0  \n",
       "\n",
       "[10 rows x 785 columns]"
      ]
     },
     "execution_count": 22,
     "metadata": {},
     "output_type": "execute_result"
    }
   ],
   "source": [
    "test_data.head(10)"
   ]
  },
  {
   "cell_type": "code",
   "execution_count": 23,
   "id": "339422a9",
   "metadata": {},
   "outputs": [],
   "source": [
    "X_test = test_data.iloc[: , 1:]\n",
    "y_test = test_data.iloc[: , 0]"
   ]
  },
  {
   "cell_type": "code",
   "execution_count": 24,
   "id": "cd84daef",
   "metadata": {},
   "outputs": [
    {
     "data": {
      "text/html": [
       "<div>\n",
       "<style scoped>\n",
       "    .dataframe tbody tr th:only-of-type {\n",
       "        vertical-align: middle;\n",
       "    }\n",
       "\n",
       "    .dataframe tbody tr th {\n",
       "        vertical-align: top;\n",
       "    }\n",
       "\n",
       "    .dataframe thead th {\n",
       "        text-align: right;\n",
       "    }\n",
       "</style>\n",
       "<table border=\"1\" class=\"dataframe\">\n",
       "  <thead>\n",
       "    <tr style=\"text-align: right;\">\n",
       "      <th></th>\n",
       "      <th>1x1</th>\n",
       "      <th>1x2</th>\n",
       "      <th>1x3</th>\n",
       "      <th>1x4</th>\n",
       "      <th>1x5</th>\n",
       "      <th>1x6</th>\n",
       "      <th>1x7</th>\n",
       "      <th>1x8</th>\n",
       "      <th>1x9</th>\n",
       "      <th>1x10</th>\n",
       "      <th>...</th>\n",
       "      <th>28x19</th>\n",
       "      <th>28x20</th>\n",
       "      <th>28x21</th>\n",
       "      <th>28x22</th>\n",
       "      <th>28x23</th>\n",
       "      <th>28x24</th>\n",
       "      <th>28x25</th>\n",
       "      <th>28x26</th>\n",
       "      <th>28x27</th>\n",
       "      <th>28x28</th>\n",
       "    </tr>\n",
       "  </thead>\n",
       "  <tbody>\n",
       "    <tr>\n",
       "      <th>0</th>\n",
       "      <td>0</td>\n",
       "      <td>0</td>\n",
       "      <td>0</td>\n",
       "      <td>0</td>\n",
       "      <td>0</td>\n",
       "      <td>0</td>\n",
       "      <td>0</td>\n",
       "      <td>0</td>\n",
       "      <td>0</td>\n",
       "      <td>0</td>\n",
       "      <td>...</td>\n",
       "      <td>0</td>\n",
       "      <td>0</td>\n",
       "      <td>0</td>\n",
       "      <td>0</td>\n",
       "      <td>0</td>\n",
       "      <td>0</td>\n",
       "      <td>0</td>\n",
       "      <td>0</td>\n",
       "      <td>0</td>\n",
       "      <td>0</td>\n",
       "    </tr>\n",
       "    <tr>\n",
       "      <th>1</th>\n",
       "      <td>0</td>\n",
       "      <td>0</td>\n",
       "      <td>0</td>\n",
       "      <td>0</td>\n",
       "      <td>0</td>\n",
       "      <td>0</td>\n",
       "      <td>0</td>\n",
       "      <td>0</td>\n",
       "      <td>0</td>\n",
       "      <td>0</td>\n",
       "      <td>...</td>\n",
       "      <td>0</td>\n",
       "      <td>0</td>\n",
       "      <td>0</td>\n",
       "      <td>0</td>\n",
       "      <td>0</td>\n",
       "      <td>0</td>\n",
       "      <td>0</td>\n",
       "      <td>0</td>\n",
       "      <td>0</td>\n",
       "      <td>0</td>\n",
       "    </tr>\n",
       "    <tr>\n",
       "      <th>2</th>\n",
       "      <td>0</td>\n",
       "      <td>0</td>\n",
       "      <td>0</td>\n",
       "      <td>0</td>\n",
       "      <td>0</td>\n",
       "      <td>0</td>\n",
       "      <td>0</td>\n",
       "      <td>0</td>\n",
       "      <td>0</td>\n",
       "      <td>0</td>\n",
       "      <td>...</td>\n",
       "      <td>0</td>\n",
       "      <td>0</td>\n",
       "      <td>0</td>\n",
       "      <td>0</td>\n",
       "      <td>0</td>\n",
       "      <td>0</td>\n",
       "      <td>0</td>\n",
       "      <td>0</td>\n",
       "      <td>0</td>\n",
       "      <td>0</td>\n",
       "    </tr>\n",
       "    <tr>\n",
       "      <th>3</th>\n",
       "      <td>0</td>\n",
       "      <td>0</td>\n",
       "      <td>0</td>\n",
       "      <td>0</td>\n",
       "      <td>0</td>\n",
       "      <td>0</td>\n",
       "      <td>0</td>\n",
       "      <td>0</td>\n",
       "      <td>0</td>\n",
       "      <td>0</td>\n",
       "      <td>...</td>\n",
       "      <td>0</td>\n",
       "      <td>0</td>\n",
       "      <td>0</td>\n",
       "      <td>0</td>\n",
       "      <td>0</td>\n",
       "      <td>0</td>\n",
       "      <td>0</td>\n",
       "      <td>0</td>\n",
       "      <td>0</td>\n",
       "      <td>0</td>\n",
       "    </tr>\n",
       "    <tr>\n",
       "      <th>4</th>\n",
       "      <td>0</td>\n",
       "      <td>0</td>\n",
       "      <td>0</td>\n",
       "      <td>0</td>\n",
       "      <td>0</td>\n",
       "      <td>0</td>\n",
       "      <td>0</td>\n",
       "      <td>0</td>\n",
       "      <td>0</td>\n",
       "      <td>0</td>\n",
       "      <td>...</td>\n",
       "      <td>0</td>\n",
       "      <td>0</td>\n",
       "      <td>0</td>\n",
       "      <td>0</td>\n",
       "      <td>0</td>\n",
       "      <td>0</td>\n",
       "      <td>0</td>\n",
       "      <td>0</td>\n",
       "      <td>0</td>\n",
       "      <td>0</td>\n",
       "    </tr>\n",
       "  </tbody>\n",
       "</table>\n",
       "<p>5 rows × 784 columns</p>\n",
       "</div>"
      ],
      "text/plain": [
       "   1x1  1x2  1x3  1x4  1x5  1x6  1x7  1x8  1x9  1x10  ...  28x19  28x20  \\\n",
       "0    0    0    0    0    0    0    0    0    0     0  ...      0      0   \n",
       "1    0    0    0    0    0    0    0    0    0     0  ...      0      0   \n",
       "2    0    0    0    0    0    0    0    0    0     0  ...      0      0   \n",
       "3    0    0    0    0    0    0    0    0    0     0  ...      0      0   \n",
       "4    0    0    0    0    0    0    0    0    0     0  ...      0      0   \n",
       "\n",
       "   28x21  28x22  28x23  28x24  28x25  28x26  28x27  28x28  \n",
       "0      0      0      0      0      0      0      0      0  \n",
       "1      0      0      0      0      0      0      0      0  \n",
       "2      0      0      0      0      0      0      0      0  \n",
       "3      0      0      0      0      0      0      0      0  \n",
       "4      0      0      0      0      0      0      0      0  \n",
       "\n",
       "[5 rows x 784 columns]"
      ]
     },
     "execution_count": 24,
     "metadata": {},
     "output_type": "execute_result"
    }
   ],
   "source": [
    "X_test.head(5)"
   ]
  },
  {
   "cell_type": "code",
   "execution_count": 25,
   "id": "780e12f5",
   "metadata": {},
   "outputs": [],
   "source": [
    "testing_value = X_test.iloc[1,:]"
   ]
  },
  {
   "cell_type": "code",
   "execution_count": 26,
   "id": "dbb4e1d8",
   "metadata": {},
   "outputs": [
    {
     "name": "stdout",
     "output_type": "stream",
     "text": [
      "(784,)\n"
     ]
    }
   ],
   "source": [
    "print(testing_value.shape)"
   ]
  },
  {
   "cell_type": "code",
   "execution_count": 27,
   "id": "3ac912db",
   "metadata": {},
   "outputs": [
    {
     "data": {
      "text/plain": [
       "array([  0,   0,   0,   0,   0,   0,   0,   0,   0,   0,   0,   0,   0,\n",
       "         0,   0,   0,   0,   0,   0,   0,   0,   0,   0,   0,   0,   0,\n",
       "         0,   0,   0,   0,   0,   0,   0,   0,   0,   0,   0,   0,   0,\n",
       "         0,   0,   0,   0,   0,   0,   0,   0,   0,   0,   0,   0,   0,\n",
       "         0,   0,   0,   0,   0,   0,   0,   0,   0,   0,   0,   0,   0,\n",
       "         0,   0,   0,   0,   0,   0,   0,   0,   0,   0,   0,   0,   0,\n",
       "         0,   0,   0,   0,   0,   0,   0,   0,   0,   0,   0,   0,   0,\n",
       "         0,   0,   0, 116, 125, 171, 255, 255, 150,  93,   0,   0,   0,\n",
       "         0,   0,   0,   0,   0,   0,   0,   0,   0,   0,   0,   0,   0,\n",
       "         0,   0,   0,   0, 169, 253, 253, 253, 253, 253, 253, 218,  30,\n",
       "         0,   0,   0,   0,   0,   0,   0,   0,   0,   0,   0,   0,   0,\n",
       "         0,   0,   0,   0,   0, 169, 253, 253, 253, 213, 142, 176, 253,\n",
       "       253, 122,   0,   0,   0,   0,   0,   0,   0,   0,   0,   0,   0,\n",
       "         0,   0,   0,   0,   0,   0,  52, 250, 253, 210,  32,  12,   0,\n",
       "         6, 206, 253, 140,   0,   0,   0,   0,   0,   0,   0,   0,   0,\n",
       "         0,   0,   0,   0,   0,   0,   0,   0,  77, 251, 210,  25,   0,\n",
       "         0,   0, 122, 248, 253,  65,   0,   0,   0,   0,   0,   0,   0,\n",
       "         0,   0,   0,   0,   0,   0,   0,   0,   0,   0,   0,  31,  18,\n",
       "         0,   0,   0,   0, 209, 253, 253,  65,   0,   0,   0,   0,   0,\n",
       "         0,   0,   0,   0,   0,   0,   0,   0,   0,   0,   0,   0,   0,\n",
       "         0,   0,   0,   0,   0, 117, 247, 253, 198,  10,   0,   0,   0,\n",
       "         0,   0,   0,   0,   0,   0,   0,   0,   0,   0,   0,   0,   0,\n",
       "         0,   0,   0,   0,   0,   0,  76, 247, 253, 231,  63,   0,   0,\n",
       "         0,   0,   0,   0,   0,   0,   0,   0,   0,   0,   0,   0,   0,\n",
       "         0,   0,   0,   0,   0,   0,   0,   0, 128, 253, 253, 144,   0,\n",
       "         0,   0,   0,   0,   0,   0,   0,   0,   0,   0,   0,   0,   0,\n",
       "         0,   0,   0,   0,   0,   0,   0,   0,   0, 176, 246, 253, 159,\n",
       "        12,   0,   0,   0,   0,   0,   0,   0,   0,   0,   0,   0,   0,\n",
       "         0,   0,   0,   0,   0,   0,   0,   0,   0,   0,  25, 234, 253,\n",
       "       233,  35,   0,   0,   0,   0,   0,   0,   0,   0,   0,   0,   0,\n",
       "         0,   0,   0,   0,   0,   0,   0,   0,   0,   0,   0,   0, 198,\n",
       "       253, 253, 141,   0,   0,   0,   0,   0,   0,   0,   0,   0,   0,\n",
       "         0,   0,   0,   0,   0,   0,   0,   0,   0,   0,   0,   0,   0,\n",
       "        78, 248, 253, 189,  12,   0,   0,   0,   0,   0,   0,   0,   0,\n",
       "         0,   0,   0,   0,   0,   0,   0,   0,   0,   0,   0,   0,   0,\n",
       "         0,  19, 200, 253, 253, 141,   0,   0,   0,   0,   0,   0,   0,\n",
       "         0,   0,   0,   0,   0,   0,   0,   0,   0,   0,   0,   0,   0,\n",
       "         0,   0,   0, 134, 253, 253, 173,  12,   0,   0,   0,   0,   0,\n",
       "         0,   0,   0,   0,   0,   0,   0,   0,   0,   0,   0,   0,   0,\n",
       "         0,   0,   0,   0,   0, 248, 253, 253,  25,   0,   0,   0,   0,\n",
       "         0,   0,   0,   0,   0,   0,   0,   0,   0,   0,   0,   0,   0,\n",
       "         0,   0,   0,   0,   0,   0,   0, 248, 253, 253,  43,  20,  20,\n",
       "        20,  20,   5,   0,   5,  20,  20,  37, 150, 150, 150, 147,  10,\n",
       "         0,   0,   0,   0,   0,   0,   0,   0,   0, 248, 253, 253, 253,\n",
       "       253, 253, 253, 253, 168, 143, 166, 253, 253, 253, 253, 253, 253,\n",
       "       253, 123,   0,   0,   0,   0,   0,   0,   0,   0,   0, 174, 253,\n",
       "       253, 253, 253, 253, 253, 253, 253, 253, 253, 253, 249, 247, 247,\n",
       "       169, 117, 117,  57,   0,   0,   0,   0,   0,   0,   0,   0,   0,\n",
       "         0, 118, 123, 123, 123, 166, 253, 253, 253, 155, 123, 123,  41,\n",
       "         0,   0,   0,   0,   0,   0,   0,   0,   0,   0,   0,   0,   0,\n",
       "         0,   0,   0,   0,   0,   0,   0,   0,   0,   0,   0,   0,   0,\n",
       "         0,   0,   0,   0,   0,   0,   0,   0,   0,   0,   0,   0,   0,\n",
       "         0,   0,   0,   0,   0,   0,   0,   0,   0,   0,   0,   0,   0,\n",
       "         0,   0,   0,   0,   0,   0,   0,   0,   0,   0,   0,   0,   0,\n",
       "         0,   0,   0,   0,   0,   0,   0,   0,   0,   0,   0,   0,   0,\n",
       "         0,   0,   0,   0,   0,   0,   0,   0,   0,   0,   0,   0,   0,\n",
       "         0,   0,   0,   0,   0,   0,   0,   0,   0,   0,   0,   0,   0,\n",
       "         0,   0,   0,   0,   0,   0,   0,   0,   0,   0,   0,   0,   0,\n",
       "         0,   0,   0,   0,   0,   0,   0,   0,   0,   0,   0,   0,   0,\n",
       "         0,   0,   0,   0,   0,   0,   0,   0,   0,   0,   0,   0,   0,\n",
       "         0,   0,   0,   0], dtype=int64)"
      ]
     },
     "execution_count": 27,
     "metadata": {},
     "output_type": "execute_result"
    }
   ],
   "source": [
    "testing_value = np.array(testing_value)\n",
    "testing_value"
   ]
  },
  {
   "cell_type": "code",
   "execution_count": 28,
   "id": "d8e547ba",
   "metadata": {},
   "outputs": [],
   "source": [
    "testing_value = testing_value.reshape(1,-1)\n"
   ]
  },
  {
   "cell_type": "code",
   "execution_count": 29,
   "id": "6a13c6b0",
   "metadata": {},
   "outputs": [
    {
     "data": {
      "text/plain": [
       "2"
      ]
     },
     "execution_count": 29,
     "metadata": {},
     "output_type": "execute_result"
    }
   ],
   "source": [
    "y_test[1]"
   ]
  },
  {
   "cell_type": "code",
   "execution_count": 30,
   "id": "7b329c5e",
   "metadata": {},
   "outputs": [
    {
     "name": "stdout",
     "output_type": "stream",
     "text": [
      "1/1 [==============================] - 0s 164ms/step\n"
     ]
    }
   ],
   "source": [
    "y_pred = model.predict(testing_value)"
   ]
  },
  {
   "cell_type": "code",
   "execution_count": 31,
   "id": "d099dd21",
   "metadata": {},
   "outputs": [
    {
     "data": {
      "text/plain": [
       "array([[3.7282372e-33, 0.0000000e+00, 1.0000000e+00, 0.0000000e+00,\n",
       "        0.0000000e+00, 0.0000000e+00, 0.0000000e+00, 0.0000000e+00,\n",
       "        0.0000000e+00, 0.0000000e+00]], dtype=float32)"
      ]
     },
     "execution_count": 31,
     "metadata": {},
     "output_type": "execute_result"
    }
   ],
   "source": [
    "y_pred"
   ]
  },
  {
   "cell_type": "code",
   "execution_count": 32,
   "id": "48be2e4c",
   "metadata": {},
   "outputs": [
    {
     "data": {
      "text/plain": [
       "(1, 10)"
      ]
     },
     "execution_count": 32,
     "metadata": {},
     "output_type": "execute_result"
    }
   ],
   "source": [
    "y_pred.shape"
   ]
  },
  {
   "cell_type": "code",
   "execution_count": 33,
   "id": "8f0813a8",
   "metadata": {},
   "outputs": [],
   "source": [
    "high_value = np.argmax(y_pred)\n"
   ]
  },
  {
   "cell_type": "code",
   "execution_count": 34,
   "id": "7bad0372",
   "metadata": {},
   "outputs": [
    {
     "data": {
      "text/plain": [
       "2"
      ]
     },
     "execution_count": 34,
     "metadata": {},
     "output_type": "execute_result"
    }
   ],
   "source": [
    "high_value   # index "
   ]
  },
  {
   "cell_type": "code",
   "execution_count": 35,
   "id": "f450fac7",
   "metadata": {},
   "outputs": [],
   "source": [
    "classes = [0,1,2,3,4,5,6,7,8,9]"
   ]
  },
  {
   "cell_type": "code",
   "execution_count": 36,
   "id": "55a3ac91",
   "metadata": {},
   "outputs": [
    {
     "data": {
      "text/plain": [
       "2"
      ]
     },
     "execution_count": 36,
     "metadata": {},
     "output_type": "execute_result"
    }
   ],
   "source": [
    "classes[high_value]"
   ]
  },
  {
   "cell_type": "code",
   "execution_count": 37,
   "id": "fd4294ec",
   "metadata": {},
   "outputs": [
    {
     "data": {
      "text/plain": [
       "2"
      ]
     },
     "execution_count": 37,
     "metadata": {},
     "output_type": "execute_result"
    }
   ],
   "source": [
    "y_test[1]"
   ]
  },
  {
   "cell_type": "code",
   "execution_count": 38,
   "id": "f6fee0a8",
   "metadata": {},
   "outputs": [
    {
     "name": "stdout",
     "output_type": "stream",
     "text": [
      "313/313 [==============================] - 1s 3ms/step\n"
     ]
    }
   ],
   "source": [
    "# test_data report \n",
    "\n",
    "y_test_pred = model.predict(X_test)"
   ]
  },
  {
   "cell_type": "code",
   "execution_count": 39,
   "id": "c78cdb4f",
   "metadata": {},
   "outputs": [],
   "source": [
    "from sklearn.metrics import accuracy_score,confusion_matrix,classification_report"
   ]
  },
  {
   "cell_type": "code",
   "execution_count": 40,
   "id": "50fe1202",
   "metadata": {},
   "outputs": [],
   "source": [
    "c = []\n",
    "for i in y_test_pred:\n",
    "    c.append(np.argmax(i))"
   ]
  },
  {
   "cell_type": "code",
   "execution_count": 41,
   "id": "579565f0",
   "metadata": {},
   "outputs": [
    {
     "data": {
      "text/plain": [
       "0.5591"
      ]
     },
     "execution_count": 41,
     "metadata": {},
     "output_type": "execute_result"
    }
   ],
   "source": [
    "accuracy_score(y_test , c)"
   ]
  },
  {
   "cell_type": "code",
   "execution_count": 42,
   "id": "302e3464",
   "metadata": {},
   "outputs": [
    {
     "data": {
      "text/plain": [
       "array([[ 960,    7,    0,    2,    0,    1,   10,    0,    0,    0],\n",
       "       [   0, 1134,    0,    1,    0,    0,    0,    0,    0,    0],\n",
       "       [  15,   28,  974,    2,    0,    1,   10,    0,    2,    0],\n",
       "       [   1,  982,    3,    5,    0,    1,   10,    2,    6,    0],\n",
       "       [   0,  960,    1,    5,    0,    0,    9,    4,    3,    0],\n",
       "       [   6,    8,    0,    0,    0,  814,   54,    0,   10,    0],\n",
       "       [   0,   15,    0,    0,    0,   10,  926,    1,    6,    0],\n",
       "       [   0, 1017,    6,    2,    0,    0,    1,    0,    2,    0],\n",
       "       [   2,   25,    1,    3,    0,   56,  106,    3,  778,    0],\n",
       "       [   0, 1005,    0,    0,    0,    0,    1,    3,    0,    0]],\n",
       "      dtype=int64)"
      ]
     },
     "execution_count": 42,
     "metadata": {},
     "output_type": "execute_result"
    }
   ],
   "source": [
    "confusion_matrix(y_test,c)"
   ]
  },
  {
   "cell_type": "code",
   "execution_count": 43,
   "id": "55c378f0",
   "metadata": {},
   "outputs": [
    {
     "name": "stdout",
     "output_type": "stream",
     "text": [
      "              precision    recall  f1-score   support\n",
      "\n",
      "           0       0.98      0.98      0.98       980\n",
      "           1       0.22      1.00      0.36      1135\n",
      "           2       0.99      0.94      0.97      1032\n",
      "           3       0.25      0.00      0.01      1010\n",
      "           4       0.00      0.00      0.00       982\n",
      "           5       0.92      0.91      0.92       892\n",
      "           6       0.82      0.97      0.89       958\n",
      "           7       0.00      0.00      0.00      1028\n",
      "           8       0.96      0.80      0.87       974\n",
      "           9       0.00      0.00      0.00      1009\n",
      "\n",
      "    accuracy                           0.56     10000\n",
      "   macro avg       0.51      0.56      0.50     10000\n",
      "weighted avg       0.50      0.56      0.49     10000\n",
      "\n"
     ]
    },
    {
     "name": "stderr",
     "output_type": "stream",
     "text": [
      "c:\\Users\\shitk2\\Anaconda3\\lib\\site-packages\\sklearn\\metrics\\_classification.py:1318: UndefinedMetricWarning: Precision and F-score are ill-defined and being set to 0.0 in labels with no predicted samples. Use `zero_division` parameter to control this behavior.\n",
      "  _warn_prf(average, modifier, msg_start, len(result))\n",
      "c:\\Users\\shitk2\\Anaconda3\\lib\\site-packages\\sklearn\\metrics\\_classification.py:1318: UndefinedMetricWarning: Precision and F-score are ill-defined and being set to 0.0 in labels with no predicted samples. Use `zero_division` parameter to control this behavior.\n",
      "  _warn_prf(average, modifier, msg_start, len(result))\n",
      "c:\\Users\\shitk2\\Anaconda3\\lib\\site-packages\\sklearn\\metrics\\_classification.py:1318: UndefinedMetricWarning: Precision and F-score are ill-defined and being set to 0.0 in labels with no predicted samples. Use `zero_division` parameter to control this behavior.\n",
      "  _warn_prf(average, modifier, msg_start, len(result))\n"
     ]
    }
   ],
   "source": [
    "print(classification_report(y_test,c))"
   ]
  },
  {
   "cell_type": "code",
   "execution_count": null,
   "id": "26c67305",
   "metadata": {},
   "outputs": [],
   "source": []
  }
 ],
 "metadata": {
  "kernelspec": {
   "display_name": "Python 3 (ipykernel)",
   "language": "python",
   "name": "python3"
  },
  "language_info": {
   "codemirror_mode": {
    "name": "ipython",
    "version": 3
   },
   "file_extension": ".py",
   "mimetype": "text/x-python",
   "name": "python",
   "nbconvert_exporter": "python",
   "pygments_lexer": "ipython3",
   "version": "3.9.12"
  }
 },
 "nbformat": 4,
 "nbformat_minor": 5
}
